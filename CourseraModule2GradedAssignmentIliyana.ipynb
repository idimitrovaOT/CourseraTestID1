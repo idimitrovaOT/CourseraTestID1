{
 "cells": [
  {
   "cell_type": "markdown",
   "id": "bd950c2e-7b38-4857-85e3-240f19a07dfa",
   "metadata": {},
   "source": [
    "Iliana's Coursera Graded Exercise\n",
    "=======================================\n",
    "\n"
   ]
  },
  {
   "cell_type": "markdown",
   "id": "520069e9-4119-4ed3-8ef3-18af1930947b",
   "metadata": {},
   "source": [
    "**Intro**: Hello, in this graded assignment to practise markdown cells in Jupyter and upload in GitHub (fingers-crossed)"
   ]
  },
  {
   "cell_type": "markdown",
   "id": "f9366e26-0aec-47bc-880d-98d883ac0f65",
   "metadata": {},
   "source": [
    "**Here is a list of data science languages:**\n",
    "\n",
    "1. Python: Python is a popular choice for data science due to its intuitive syntax, extensive libraries for data analysis, visualization, and machine learning. It’s widely adopted in the data science community12.\n",
    "2. R: R is specifically designed for data analysis and statistical computing. It has robust support from the data science community and is great for data mining and statistical analysis1.\n",
    "3. SQL: SQL (Structured Query Language) is crucial for querying data and managing databases. It’s essential for data manipulation and extraction1.\n",
    "4. C/C++: While not as common as Python or R, C/C++ can be used for performance-critical tasks in data science applications1.\n",
    "5. Java: Java is versatile and widely used in various domains, including data science. It’s especially useful for big data processing and distributed computing1.\n",
    "6. JavaScript: JavaScript is beneficial for advanced data visualization on web platforms. Libraries like D3.js make it a powerful tool for interactive visualizations1.\n",
    "7. Scala: Scala runs on the Java Virtual Machine (JVM) and is gaining popularity in the data science community. It combines functional and object-oriented programming features1.\n",
    "8. Go: Go (or Golang) is known for its simplicity, efficiency, and strong concurrency support. It’s suitable for building scalable data processing pipelines1.\n",
    "9. Julia: Julia is designed for high-performance numerical computing. It’s gaining traction in scientific computing and data science due to its speed and ease of use1.\n",
    "10. Swift: Although primarily associated with iOS app development, Swift can also be used for data science tasks. Its concise syntax and performance make it interesting for certain applications1.\n",
    "11. MATLAB: MATLAB is widely used in academia and industry for numerical computing, simulations, and data analysis. It has powerful built-in functions for mathematical operations1.\n",
    "12. SAS: SAS (Statistical Analysis System) is an older language but still used in specific industries for data analysis, business intelligence, and predictive modeling1.\n",
    "\n",
    "------------------------------------------------------------------------------------------------------"
   ]
  },
  {
   "cell_type": "markdown",
   "id": "2fcdaea0-adda-4f9b-b011-eb031a3b92bd",
   "metadata": {},
   "source": [
    "**And here is a list of data science libraries**\n",
    "\n",
    "1. Python: Python is a versatile language with a rich ecosystem of data science libraries. Some key ones include:\n",
    "-- NumPy: For numerical computations and array operations.\n",
    "-- Pandas: For data manipulation and analysis.\n",
    "-- Matplotlib and Seaborn: For data visualization.\n",
    "-- Scikit-learn: For machine learning algorithms.\n",
    "-- Statsmodels: For statistical modeling.\n",
    "2. R: R is widely used for statistical computing and data analysis. Some essential R packages are:\n",
    "-- dplyr: For data manipulation.\n",
    "-- ggplot2: For creating beautiful visualizations.\n",
    "-- caret: For machine learning.\n",
    "-- tidyr: For data tidying.\n",
    "3. SQL: SQL is essential for working with databases. It’s not a library per se, but it’s crucial for data extraction and manipulation.\n",
    "4. Java: Although not as common as Python or R, Java is used for big data processing and distributed computing.\n",
    "5. Scala: Scala, running on the JVM, is gaining popularity in the data science community.\n",
    "\n",
    "------------------------------------------------------------------------------------------------------------------"
   ]
  },
  {
   "cell_type": "markdown",
   "id": "094dc160-2714-4c83-b661-21a0c8b7c063",
   "metadata": {},
   "source": [
    "**A table with most common Data Sience tools**\n",
    "\n",
    "|Tool Name|Description|\n",
    "|--------|------------|\n",
    "|Jupyter Notebook|An interactive web-based tool for creating and sharing documents containing live code, equations, visualizations, and narrative text.|\n",
    "|Pandas|A Python library for data manipulation and analysis, particularly useful for handling structured data.|\n",
    "|TensorFlow|An open-source machine learning framework developed by Google for building and training neural networks.|\n",
    "|Keras|A high-level neural networks API written in Python, compatible with TensorFlow and Theano.|\n",
    "|Tableau|A powerful data visualization tool for creating interactive dashboards and reports.|\n",
    "|Power BI|A business analytics service by Microsoft for creating interactive visualizations and sharing insights.|\n",
    "\n",
    "-----------------------------------------------------------------------------------------------------------------------"
   ]
  },
  {
   "cell_type": "markdown",
   "id": "30093f6e-c824-4253-8e9e-cf6210eb6c06",
   "metadata": {},
   "source": [
    "### This is where the aritmetics start\n",
    "Following is two cells with expressions:"
   ]
  },
  {
   "cell_type": "code",
   "execution_count": 3,
   "id": "bb78861d-c519-4ebe-83c0-0878dac5bda8",
   "metadata": {
    "tags": []
   },
   "outputs": [
    {
     "name": "stdout",
     "output_type": "stream",
     "text": [
      "the product is 126\n"
     ]
    }
   ],
   "source": [
    "number = (5+2)*18\n",
    "print (\"the product is\", number) \n"
   ]
  },
  {
   "cell_type": "code",
   "execution_count": 6,
   "id": "90f01689-2cce-40b3-881b-410325b3c11a",
   "metadata": {
    "tags": []
   },
   "outputs": [
    {
     "name": "stdout",
     "output_type": "stream",
     "text": [
      "3\n"
     ]
    }
   ],
   "source": [
    "def min_to_hrs(minutes):\n",
    "    hours = minutes//60\n",
    "    return hours\n",
    "\n",
    "print(min_to_hrs(180))"
   ]
  },
  {
   "cell_type": "markdown",
   "id": "a57da571-22b7-41be-a41a-06c5632a74e3",
   "metadata": {},
   "source": [
    "##### Objectives of Python programming language:\n",
    "  + Speed and productivity of the programmer\n",
    "  + A powerful toolbox\n",
    "  + Flexibility\n",
    "  + Dynamically type of language\n",
    "  + Object-oriented language\n",
    "  + Extensive library support\n",
    "  + Active and vibrant community support\n",
    "  + To design and program Python applications"
   ]
  },
  {
   "cell_type": "markdown",
   "id": "3be1dbab-d257-4fde-b5a0-f2b9f2a17310",
   "metadata": {},
   "source": [
    "__author__ = \"Iliyana Dimitrova\"\n"
   ]
  },
  {
   "cell_type": "code",
   "execution_count": null,
   "id": "8f4fae65-c767-4eaa-90a6-07406cb298e4",
   "metadata": {},
   "outputs": [],
   "source": []
  }
 ],
 "metadata": {
  "kernelspec": {
   "display_name": "Python",
   "language": "python",
   "name": "conda-env-python-py"
  },
  "language_info": {
   "codemirror_mode": {
    "name": "ipython",
    "version": 3
   },
   "file_extension": ".py",
   "mimetype": "text/x-python",
   "name": "python",
   "nbconvert_exporter": "python",
   "pygments_lexer": "ipython3",
   "version": "3.7.12"
  }
 },
 "nbformat": 4,
 "nbformat_minor": 5
}
